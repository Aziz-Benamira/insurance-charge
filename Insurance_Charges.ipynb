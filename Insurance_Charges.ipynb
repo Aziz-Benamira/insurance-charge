{
 "cells": [
  {
   "cell_type": "code",
   "execution_count": 78,
   "id": "81a07c66-a3d4-4fdd-9c3c-7b3a19b80d62",
   "metadata": {
    "chartConfig": {
     "bar": {
      "hasRoundedCorners": true,
      "stacked": false
     },
     "type": "bar",
     "version": "v1"
    },
    "executionCancelledAt": null,
    "executionTime": 49,
    "lastExecutedAt": 1733183205589,
    "lastExecutedByKernel": "9adb1698-05d9-46d2-87c2-03703fb016df",
    "lastScheduledRunId": null,
    "lastSuccessfullyExecutedCode": "# Re-run this cell\n# Import required libraries\nimport pandas as pd\nimport numpy as np\nfrom sklearn.preprocessing import StandardScaler\nfrom sklearn.model_selection import cross_val_score\nfrom sklearn.linear_model import LinearRegression\nfrom sklearn.metrics import r2_score\n# Loading the insurance dataset\ninsurance_data_path = 'insurance.csv'\ninsurance = pd.read_csv(insurance_data_path)\ninsurance.head()",
    "outputsMetadata": {
     "0": {
      "height": 237,
      "type": "dataFrame"
     }
    },
    "visualizeDataframe": false
   },
   "outputs": [
    {
     "data": {
      "text/html": [
       "<div>\n",
       "<style scoped>\n",
       "    .dataframe tbody tr th:only-of-type {\n",
       "        vertical-align: middle;\n",
       "    }\n",
       "\n",
       "    .dataframe tbody tr th {\n",
       "        vertical-align: top;\n",
       "    }\n",
       "\n",
       "    .dataframe thead th {\n",
       "        text-align: right;\n",
       "    }\n",
       "</style>\n",
       "<table border=\"1\" class=\"dataframe\">\n",
       "  <thead>\n",
       "    <tr style=\"text-align: right;\">\n",
       "      <th></th>\n",
       "      <th>age</th>\n",
       "      <th>sex</th>\n",
       "      <th>bmi</th>\n",
       "      <th>children</th>\n",
       "      <th>smoker</th>\n",
       "      <th>region</th>\n",
       "      <th>charges</th>\n",
       "    </tr>\n",
       "  </thead>\n",
       "  <tbody>\n",
       "    <tr>\n",
       "      <th>0</th>\n",
       "      <td>19.0</td>\n",
       "      <td>female</td>\n",
       "      <td>27.900</td>\n",
       "      <td>0.0</td>\n",
       "      <td>yes</td>\n",
       "      <td>southwest</td>\n",
       "      <td>16884.924</td>\n",
       "    </tr>\n",
       "    <tr>\n",
       "      <th>1</th>\n",
       "      <td>18.0</td>\n",
       "      <td>male</td>\n",
       "      <td>33.770</td>\n",
       "      <td>1.0</td>\n",
       "      <td>no</td>\n",
       "      <td>Southeast</td>\n",
       "      <td>1725.5523</td>\n",
       "    </tr>\n",
       "    <tr>\n",
       "      <th>2</th>\n",
       "      <td>28.0</td>\n",
       "      <td>male</td>\n",
       "      <td>33.000</td>\n",
       "      <td>3.0</td>\n",
       "      <td>no</td>\n",
       "      <td>southeast</td>\n",
       "      <td>$4449.462</td>\n",
       "    </tr>\n",
       "    <tr>\n",
       "      <th>3</th>\n",
       "      <td>33.0</td>\n",
       "      <td>male</td>\n",
       "      <td>22.705</td>\n",
       "      <td>0.0</td>\n",
       "      <td>no</td>\n",
       "      <td>northwest</td>\n",
       "      <td>$21984.47061</td>\n",
       "    </tr>\n",
       "    <tr>\n",
       "      <th>4</th>\n",
       "      <td>32.0</td>\n",
       "      <td>male</td>\n",
       "      <td>28.880</td>\n",
       "      <td>0.0</td>\n",
       "      <td>no</td>\n",
       "      <td>northwest</td>\n",
       "      <td>$3866.8552</td>\n",
       "    </tr>\n",
       "  </tbody>\n",
       "</table>\n",
       "</div>"
      ],
      "text/plain": [
       "    age     sex     bmi  children smoker     region       charges\n",
       "0  19.0  female  27.900       0.0    yes  southwest     16884.924\n",
       "1  18.0    male  33.770       1.0     no  Southeast     1725.5523\n",
       "2  28.0    male  33.000       3.0     no  southeast     $4449.462\n",
       "3  33.0    male  22.705       0.0     no  northwest  $21984.47061\n",
       "4  32.0    male  28.880       0.0     no  northwest    $3866.8552"
      ]
     },
     "execution_count": 78,
     "metadata": {},
     "output_type": "execute_result"
    }
   ],
   "source": [
    "import pandas as pd\n",
    "import numpy as np\n",
    "from sklearn.preprocessing import StandardScaler\n",
    "from sklearn.linear_model import LinearRegression\n",
    "from sklearn.metrics import r2_score\n",
    "# Loading the insurance dataset\n",
    "insurance_data_path = 'insurance.csv'\n",
    "insurance = pd.read_csv(insurance_data_path)\n",
    "insurance.head()"
   ]
  },
  {
   "cell_type": "code",
   "execution_count": 79,
   "id": "a143c3b2-1ff1-47a0-8fc6-662b8b19dbf1",
   "metadata": {
    "executionCancelledAt": null,
    "executionTime": 62,
    "lastExecutedAt": 1733183205651,
    "lastExecutedByKernel": "9adb1698-05d9-46d2-87c2-03703fb016df",
    "lastScheduledRunId": null,
    "lastSuccessfullyExecutedCode": "# Implement model creation and training here\n# Use as many cells as you need\nprint(insurance)\nprint(insurance.isna().sum())",
    "outputsMetadata": {
     "0": {
      "height": 479,
      "type": "stream"
     }
    }
   },
   "outputs": [
    {
     "name": "stdout",
     "output_type": "stream",
     "text": [
      "    age     sex     bmi  children smoker     region       charges\n",
      "0  19.0  female  27.900       0.0    yes  southwest     16884.924\n",
      "1  18.0    male  33.770       1.0     no  Southeast     1725.5523\n",
      "2  28.0    male  33.000       3.0     no  southeast     $4449.462\n",
      "3  33.0    male  22.705       0.0     no  northwest  $21984.47061\n",
      "4  32.0    male  28.880       0.0     no  northwest    $3866.8552\n",
      "age         66\n",
      "sex         66\n",
      "bmi         66\n",
      "children    66\n",
      "smoker      66\n",
      "region      66\n",
      "charges     54\n",
      "dtype: int64\n"
     ]
    }
   ],
   "source": [
    "print(insurance.head())\n",
    "print(insurance.isna().sum())"
   ]
  },
  {
   "cell_type": "code",
   "execution_count": 80,
   "id": "d3093ccf-1574-475f-8cb5-c10ae3a90240",
   "metadata": {
    "executionCancelledAt": null,
    "executionTime": 60,
    "lastExecutedAt": 1733183205711,
    "lastExecutedByKernel": "9adb1698-05d9-46d2-87c2-03703fb016df",
    "lastScheduledRunId": null,
    "lastSuccessfullyExecutedCode": "insurance['sex'] = insurance['sex'].map({'male': 0, 'female': 1})\ninsurance['smoker'] = insurance['smoker'].map({'no': 0, 'yes': 1})\nsex_mode = insurance['sex'].mode()[0]  # Get the most frequent value\ninsurance['sex'].fillna(sex_mode, inplace=True)  # Impute missing values\nprint(insurance.head())",
    "outputsMetadata": {
     "0": {
      "height": 143,
      "type": "stream"
     }
    }
   },
   "outputs": [
    {
     "name": "stdout",
     "output_type": "stream",
     "text": [
      "    age  sex     bmi  children  smoker     region       charges\n",
      "0  19.0  1.0  27.900       0.0     1.0  southwest     16884.924\n",
      "1  18.0  0.0  33.770       1.0     0.0  Southeast     1725.5523\n",
      "2  28.0  0.0  33.000       3.0     0.0  southeast     $4449.462\n",
      "3  33.0  0.0  22.705       0.0     0.0  northwest  $21984.47061\n",
      "4  32.0  0.0  28.880       0.0     0.0  northwest    $3866.8552\n"
     ]
    },
    {
     "name": "stderr",
     "output_type": "stream",
     "text": [
      "C:\\Users\\benam\\AppData\\Local\\Temp\\ipykernel_23092\\1814736797.py:4: FutureWarning: A value is trying to be set on a copy of a DataFrame or Series through chained assignment using an inplace method.\n",
      "The behavior will change in pandas 3.0. This inplace method will never work because the intermediate object on which we are setting values always behaves as a copy.\n",
      "\n",
      "For example, when doing 'df[col].method(value, inplace=True)', try using 'df.method({col: value}, inplace=True)' or df[col] = df[col].method(value) instead, to perform the operation inplace on the original object.\n",
      "\n",
      "\n",
      "  insurance['sex'].fillna(sex_mode, inplace=True)  # Impute missing values\n"
     ]
    }
   ],
   "source": [
    "insurance['sex'] = insurance['sex'].map({'male': 0, 'female': 1})\n",
    "insurance['smoker'] = insurance['smoker'].map({'no': 0, 'yes': 1})\n",
    "sex_mode = insurance['sex'].mode()[0]  # Get the most frequent value\n",
    "insurance['sex'].fillna(sex_mode, inplace=True)  # Impute missing values\n",
    "print(insurance.head())"
   ]
  },
  {
   "cell_type": "code",
   "execution_count": 81,
   "id": "225b9e4f-5596-446c-815f-42a3582907dd",
   "metadata": {
    "executionCancelledAt": null,
    "executionTime": 52,
    "lastExecutedAt": 1733183205763,
    "lastExecutedByKernel": "9adb1698-05d9-46d2-87c2-03703fb016df",
    "lastScheduledRunId": null,
    "lastSuccessfullyExecutedCode": "print(insurance['region'].values)\ninsurance['region']=insurance['region'].str.lower()\nprint(insurance['region'].value_counts())\nregion_mode = insurance['region'].mode()[0]  # Get the most frequent value\ninsurance['region'].fillna(region_mode, inplace=True)  # Impute missing values\ninsurance = pd.get_dummies(insurance, columns=['region'], drop_first=True)\nprint(insurance)\n",
    "outputsMetadata": {
     "0": {
      "height": 458,
      "type": "stream"
     }
    }
   },
   "outputs": [
    {
     "name": "stdout",
     "output_type": "stream",
     "text": [
      "['southwest' 'Southeast' 'southeast' ... 'southeast' 'southwest'\n",
      " 'northwest']\n",
      "region\n",
      "southeast    342\n",
      "southwest    312\n",
      "northwest    310\n",
      "northeast    308\n",
      "Name: count, dtype: int64\n",
      "    age  sex     bmi  children  smoker       charges  region_northwest  \\\n",
      "0  19.0  1.0  27.900       0.0     1.0     16884.924             False   \n",
      "1  18.0  0.0  33.770       1.0     0.0     1725.5523             False   \n",
      "2  28.0  0.0  33.000       3.0     0.0     $4449.462             False   \n",
      "3  33.0  0.0  22.705       0.0     0.0  $21984.47061              True   \n",
      "4  32.0  0.0  28.880       0.0     0.0    $3866.8552              True   \n",
      "\n",
      "   region_southeast  region_southwest  \n",
      "0             False              True  \n",
      "1              True             False  \n",
      "2              True             False  \n",
      "3             False             False  \n",
      "4             False             False  \n"
     ]
    },
    {
     "name": "stderr",
     "output_type": "stream",
     "text": [
      "C:\\Users\\benam\\AppData\\Local\\Temp\\ipykernel_23092\\1916143316.py:5: FutureWarning: A value is trying to be set on a copy of a DataFrame or Series through chained assignment using an inplace method.\n",
      "The behavior will change in pandas 3.0. This inplace method will never work because the intermediate object on which we are setting values always behaves as a copy.\n",
      "\n",
      "For example, when doing 'df[col].method(value, inplace=True)', try using 'df.method({col: value}, inplace=True)' or df[col] = df[col].method(value) instead, to perform the operation inplace on the original object.\n",
      "\n",
      "\n",
      "  insurance['region'].fillna(region_mode, inplace=True)  # Impute missing values\n"
     ]
    }
   ],
   "source": [
    "print(insurance['region'].values)\n",
    "insurance['region']=insurance['region'].str.lower()\n",
    "print(insurance['region'].value_counts())\n",
    "region_mode = insurance['region'].mode()[0]  # Get the most frequent value\n",
    "insurance['region'].fillna(region_mode, inplace=True)  # Impute missing values\n",
    "insurance = pd.get_dummies(insurance, columns=['region'], drop_first=True)\n",
    "print(insurance.head())\n"
   ]
  },
  {
   "cell_type": "code",
   "execution_count": 82,
   "id": "3f663f54-a605-4e4e-b6f0-3e5bd8c33d9f",
   "metadata": {
    "executionCancelledAt": null,
    "executionTime": 48,
    "lastExecutedAt": 1733183205811,
    "lastExecutedByKernel": "9adb1698-05d9-46d2-87c2-03703fb016df",
    "lastScheduledRunId": null,
    "lastSuccessfullyExecutedCode": "print(insurance['charges'].dtype)\ninsurance['charges'] = insurance['charges'].str.replace(\"$\",\"\").astype(\"double\")\nprint(insurance['charges'])\n",
    "outputsMetadata": {
     "0": {
      "height": 290,
      "type": "stream"
     }
    }
   },
   "outputs": [
    {
     "name": "stdout",
     "output_type": "stream",
     "text": [
      "object\n",
      "0       16884.92400\n",
      "1        1725.55230\n",
      "2        4449.46200\n",
      "3       21984.47061\n",
      "4        3866.85520\n",
      "           ...     \n",
      "1333    10600.54830\n",
      "1334     2205.98080\n",
      "1335     1629.83350\n",
      "1336     2007.94500\n",
      "1337    29141.36030\n",
      "Name: charges, Length: 1338, dtype: float64\n"
     ]
    }
   ],
   "source": [
    "print(insurance['charges'].dtype)\n",
    "insurance['charges'] = insurance['charges'].str.replace(\"$\",\"\").astype(\"double\")\n",
    "print(insurance['charges'])\n"
   ]
  },
  {
   "cell_type": "code",
   "execution_count": 83,
   "id": "508728bf-9bdf-4622-abfc-6c9821013c94",
   "metadata": {
    "executionCancelledAt": null,
    "executionTime": 48,
    "lastExecutedAt": 1733183205859,
    "lastExecutedByKernel": "9adb1698-05d9-46d2-87c2-03703fb016df",
    "lastScheduledRunId": null,
    "lastSuccessfullyExecutedCode": "print(insurance['age'].isna().sum() )\ninsurance['age'] = insurance['age'].fillna(insurance['age'].mean())",
    "outputsMetadata": {
     "0": {
      "height": 38,
      "type": "stream"
     }
    }
   },
   "outputs": [
    {
     "name": "stdout",
     "output_type": "stream",
     "text": [
      "66\n",
      "0       19\n",
      "1       18\n",
      "2       28\n",
      "3       33\n",
      "4       32\n",
      "        ..\n",
      "1333    50\n",
      "1334    18\n",
      "1335    18\n",
      "1336    21\n",
      "1337    61\n",
      "Name: age, Length: 1338, dtype: int32\n",
      "0\n"
     ]
    }
   ],
   "source": [
    "print(insurance['age'].isna().sum() )\n",
    "insurance['age'] = insurance['age'].fillna(insurance['age'].mean())\n",
    "insurance['age'] = insurance['age'].apply(lambda x: abs(x)).astype(\"int\")\n",
    "print(insurance['age'])\n",
    "print(insurance['age'].isna().sum() )"
   ]
  },
  {
   "cell_type": "code",
   "execution_count": null,
   "id": "7801bf00-d4a0-4bd4-922c-b6e69eee2489",
   "metadata": {
    "executionCancelledAt": null,
    "executionTime": 52,
    "lastExecutedAt": 1733183205959,
    "lastExecutedByKernel": "9adb1698-05d9-46d2-87c2-03703fb016df",
    "lastScheduledRunId": null,
    "lastSuccessfullyExecutedCode": "insurance['bmi']=insurance['bmi'].fillna(insurance['bmi'].mean())\ninsurance['children']=insurance['children'].fillna(insurance['children'].mean())\nsmoker_mode = insurance['smoker'].mode()[0]  # Get the most frequent value\ninsurance['smoker'].fillna(smoker_mode, inplace=True)  # Impute missing values\ninsurance['charges']=insurance['charges'].fillna(insurance['charges'].mean())",
    "outputsMetadata": {
     "0": {
      "height": 227,
      "type": "stream"
     }
    }
   },
   "outputs": [],
   "source": [
    "insurance['bmi']=insurance['bmi'].fillna(insurance['bmi'].mean())\n",
    "insurance['children']=insurance['children'].fillna(insurance['children'].mean())\n",
    "smoker_mode = insurance['smoker'].mode()[0]  # Get the most frequent value\n",
    "insurance['smoker'].fillna(smoker_mode, inplace = True)  # Impute missing values\n",
    "insurance['charges']=insurance['charges'].fillna(insurance['charges'].mean())"
   ]
  },
  {
   "cell_type": "code",
   "execution_count": 85,
   "id": "fe3bac26-2b69-4640-9e1b-5dce785ab90f",
   "metadata": {
    "collapsed": true,
    "executionCancelledAt": null,
    "executionTime": 52,
    "jupyter": {
     "outputs_hidden": true,
     "source_hidden": false
    },
    "lastExecutedAt": 1733183206011,
    "lastExecutedByKernel": "9adb1698-05d9-46d2-87c2-03703fb016df",
    "lastScheduledRunId": null,
    "lastSuccessfullyExecutedCode": "model = LinearRegression()\nX_train = insurance.drop(columns='charges')\ny_train = insurance[\"charges\"]\nscaler = StandardScaler()\nX_train_scaled = scaler.fit_transform(X_train)\ny_train_scaled = scaler.fit_transform(y_train.values.reshape(-1, 1))"
   },
   "outputs": [],
   "source": [
    "model = LinearRegression()\n",
    "X_train = insurance.drop(columns='charges')\n",
    "\n",
    "y_train = insurance[\"charges\"]\n",
    "scaler = StandardScaler()\n",
    "X_train_scaled = scaler.fit_transform(X_train)\n",
    "y_train_scaled = scaler.fit_transform(y_train.values.reshape(-1, 1))"
   ]
  },
  {
   "cell_type": "code",
   "execution_count": 86,
   "id": "90f7e646-da17-4ff2-81b6-3336ba29e05f",
   "metadata": {
    "executionCancelledAt": null,
    "executionTime": 95,
    "lastExecutedAt": 1733183206106,
    "lastExecutedByKernel": "9adb1698-05d9-46d2-87c2-03703fb016df",
    "lastScheduledRunId": null,
    "lastSuccessfullyExecutedCode": "model.fit(X_train_scaled,y_train_scaled)\ny_train_pred_scaled = model.predict(X_train_scaled)\nr2_score = r2_score(y_train_scaled, y_train_pred_scaled)\nprint(\"R-Squared Score:\", r2_score)",
    "outputsMetadata": {
     "0": {
      "height": 38,
      "type": "stream"
     }
    }
   },
   "outputs": [
    {
     "name": "stdout",
     "output_type": "stream",
     "text": [
      "R-Squared Score: 0.7039153630279834\n"
     ]
    }
   ],
   "source": [
    "model.fit(X_train_scaled,y_train_scaled)\n",
    "y_train_pred_scaled = model.predict(X_train_scaled)\n",
    "r2_score = r2_score(y_train_scaled, y_train_pred_scaled)\n",
    "print(\"R-Squared Score:\", r2_score)"
   ]
  },
  {
   "cell_type": "code",
   "execution_count": null,
   "id": "e346d6bb-dbbe-40c1-ac8b-e08b58ba2eff",
   "metadata": {
    "executionCancelledAt": null,
    "executionTime": 98,
    "lastExecutedAt": 1733183206204,
    "lastExecutedByKernel": "9adb1698-05d9-46d2-87c2-03703fb016df",
    "lastScheduledRunId": null,
    "lastSuccessfullyExecutedCode": ""
   },
   "outputs": [],
   "source": []
  },
  {
   "cell_type": "code",
   "execution_count": 87,
   "id": "c03b0032-fa70-405e-bd6a-ecbaccca972d",
   "metadata": {
    "executionCancelledAt": null,
    "executionTime": 47,
    "lastExecutedAt": 1733183206251,
    "lastExecutedByKernel": "9adb1698-05d9-46d2-87c2-03703fb016df",
    "lastScheduledRunId": null,
    "lastSuccessfullyExecutedCode": "validation_data = pd.read_csv(\"validation_dataset.csv\")\n\nprint(validation_data.head())",
    "outputsMetadata": {
     "0": {
      "height": 143,
      "type": "stream"
     }
    }
   },
   "outputs": [
    {
     "name": "stdout",
     "output_type": "stream",
     "text": [
      "    age     sex        bmi  children smoker     region\n",
      "0  18.0  female  24.090000       1.0     no  southeast\n",
      "1  39.0    male  26.410000       0.0    yes  northeast\n",
      "2  27.0    male  29.150000       0.0    yes  southeast\n",
      "3  71.0    male  65.502135      13.0    yes  southeast\n",
      "4  28.0    male  38.060000       0.0     no  southeast\n"
     ]
    }
   ],
   "source": [
    "validation_data = pd.read_csv(\"validation_dataset.csv\")\n",
    "\n",
    "print(validation_data.head())"
   ]
  },
  {
   "cell_type": "code",
   "execution_count": null,
   "id": "df9e846d-37c5-4207-bb39-83ef2a50f1e6",
   "metadata": {
    "executionCancelledAt": null,
    "executionTime": 52,
    "lastExecutedAt": 1733183206303,
    "lastExecutedByKernel": "9adb1698-05d9-46d2-87c2-03703fb016df",
    "lastScheduledRunId": null,
    "lastSuccessfullyExecutedCode": "validation_data['sex'] = validation_data['sex'].map({'male': 0, 'female': 1})\nvalidation_data['smoker'] = validation_data['smoker'].map({'no': 0, 'yes': 1})\nsex_mode = validation_data['sex'].mode()[0]  # Get the most frequent value\nvalidation_data['sex'].fillna(sex_mode, inplace=True)  # Impute missing values\n\nvalidation_data['region']=validation_data['region'].str.lower()\n\nregion_mode = validation_data['region'].mode()[0]  # Get the most frequent value\nvalidation_data['region'].fillna(region_mode, inplace=True)  # Impute missing values\nvalidation_data = pd.get_dummies(validation_data, columns=['region'], drop_first=True)\n\n\n\n\nvalidation_data['age'] = validation_data['age'].fillna(validation_data['age'].mean())\nvalidation_data['age'] = validation_data['age'].apply(lambda x: abs(x)).astype(\"int\")\n\n\nvalidation_data['bmi']=validation_data['bmi'].fillna(validation_data['bmi'].mean())\nvalidation_data['children']=validation_data['children'].fillna(validation_data['children'].mean())\nsmoker_mode = validation_data['smoker'].mode()[0]  # Get the most frequent value\nvalidation_data['smoker'].fillna(smoker_mode, inplace=True)  # Impute missing values\n"
   },
   "outputs": [],
   "source": [
    "validation_data['sex'] = validation_data['sex'].map({'male': 0, 'female': 1})\n",
    "validation_data['smoker'] = validation_data['smoker'].map({'no': 0, 'yes': 1})\n",
    "sex_mode = validation_data['sex'].mode()[0]  # Get the most frequent value\n",
    "validation_data['sex'].fillna(sex_mode, inplace=True)  # Impute missing values\n",
    "\n",
    "validation_data['region']=validation_data['region'].str.lower()\n",
    "\n",
    "region_mode = validation_data['region'].mode()[0]  # Get the most frequent value\n",
    "validation_data['region'].fillna(region_mode, inplace=True)  # Impute missing values\n",
    "validation_data = pd.get_dummies(validation_data, columns=['region'], drop_first=True)\n",
    "\n",
    "\n",
    "\n",
    "\n",
    "validation_data['age'] = validation_data['age'].fillna(validation_data['age'].mean())\n",
    "validation_data['age'] = validation_data['age'].apply(lambda x: abs(x)).astype(\"int\")\n",
    "\n",
    "\n",
    "validation_data['bmi']=validation_data['bmi'].fillna(validation_data['bmi'].mean())\n",
    "validation_data['children']=validation_data['children'].fillna(validation_data['children'].mean())\n",
    "smoker_mode = validation_data['smoker'].mode()[0]  # Get the most frequent value\n",
    "validation_data['smoker'].fillna(smoker_mode, inplace=True)  # Impute missing values\n"
   ]
  },
  {
   "cell_type": "code",
   "execution_count": 89,
   "id": "be34802b-610e-4689-b37f-7759a65fd3fd",
   "metadata": {
    "executionCancelledAt": null,
    "executionTime": 47,
    "lastExecutedAt": 1733183206351,
    "lastExecutedByKernel": "9adb1698-05d9-46d2-87c2-03703fb016df",
    "lastScheduledRunId": null,
    "lastSuccessfullyExecutedCode": "predicted_charges  = model.predict(validation_data)*1000\npredicted_charges = np.where(predicted_charges < 1000, 1000, predicted_charges)\nvalidation_data[\"predicted_charges\"] = predicted_charges\nprint(validation_data)",
    "outputsMetadata": {
     "0": {
      "height": 616,
      "type": "stream"
     }
    }
   },
   "outputs": [
    {
     "name": "stderr",
     "output_type": "stream",
     "text": [
      "c:\\Users\\benam\\AppData\\Local\\Programs\\Python\\Python310\\lib\\site-packages\\sklearn\\base.py:486: UserWarning: X has feature names, but LinearRegression was fitted without feature names\n",
      "  warnings.warn(\n"
     ]
    },
    {
     "name": "stdout",
     "output_type": "stream",
     "text": [
      "    age  sex        bmi  children  smoker  region_northwest  region_southeast  \\\n",
      "0    18    1  24.090000       1.0       0             False              True   \n",
      "1    39    0  26.410000       0.0       1             False             False   \n",
      "2    27    0  29.150000       0.0       1             False              True   \n",
      "3    71    0  65.502135      13.0       1             False              True   \n",
      "4    28    0  38.060000       0.0       0             False              True   \n",
      "5    70    1  72.958351      11.0       1             False              True   \n",
      "6    29    1  32.110000       2.0       0              True             False   \n",
      "7    42    1  41.325000       1.0       0             False             False   \n",
      "8    48    1  36.575000       0.0       0              True             False   \n",
      "9    63    0  33.660000       3.0       0             False              True   \n",
      "10   27    0  18.905000       3.0       0             False             False   \n",
      "11   51    1  36.670000       2.0       0              True             False   \n",
      "12   60    1  24.530000       0.0       0             False              True   \n",
      "13   57    1  28.700000       0.0       0             False             False   \n",
      "14   20    1  28.975000       0.0       0              True             False   \n",
      "15   18    0  30.400000       3.0       0             False             False   \n",
      "16   83    0  89.097296       9.0       0              True             False   \n",
      "17   92    1  69.127267      13.0       1             False              True   \n",
      "18   84    1  75.742693       2.0       1             False             False   \n",
      "19   55    1  26.980000       0.0       0              True             False   \n",
      "20   23    0  18.715000       0.0       0              True             False   \n",
      "21   49    1  33.345000       2.0       0             False             False   \n",
      "22   33    1  35.530000       0.0       1              True             False   \n",
      "23   47    1  36.000000       1.0       0             False             False   \n",
      "24   40    0  32.300000       2.0       0              True             False   \n",
      "25   21    1  35.720000       0.0       0              True             False   \n",
      "26   74    1  65.454749      13.0       1             False             False   \n",
      "27   28    1  25.800000       0.0       0             False             False   \n",
      "28   57    1  25.740000       2.0       0             False              True   \n",
      "29   45    0  33.700000       1.0       0             False             False   \n",
      "30   27    1  32.395000       1.0       0             False             False   \n",
      "31   19    1  33.110000       0.0       1             False              True   \n",
      "32   44    1  20.235000       1.0       1             False             False   \n",
      "33   63    1  26.220000       0.0       0              True             False   \n",
      "34   43    1  24.700000       2.0       1              True             False   \n",
      "35   46    0  40.375000       2.0       0              True             False   \n",
      "36   78    0  66.370173      11.0       1              True             False   \n",
      "37   52    0  38.600000       2.0       0             False             False   \n",
      "38   18    0  21.780000       2.0       0             False              True   \n",
      "39   70    0  60.617535      10.0       0             False              True   \n",
      "40   29    0  34.400000       0.0       1             False             False   \n",
      "41   35    0  39.710000       4.0       0             False             False   \n",
      "42   29    0  27.200000       0.0       0             False             False   \n",
      "43   89    0  68.736874       6.0       1              True             False   \n",
      "44   26    0  32.490000       1.0       0             False             False   \n",
      "45   58    0  36.955000       2.0       1              True             False   \n",
      "46   92    0  84.973279      11.0       1             False             False   \n",
      "47   19    0  44.880000       0.0       1             False              True   \n",
      "48   61    0  33.915000       0.0       0             False             False   \n",
      "49   44    1  38.060000       0.0       1             False              True   \n",
      "\n",
      "    region_southwest  predicted_charges  \n",
      "0              False        8978.172018  \n",
      "1              False       16240.359964  \n",
      "2              False       13138.745225  \n",
      "3              False       32040.288769  \n",
      "4              False       14022.988473  \n",
      "5              False       32807.192930  \n",
      "6              False       13452.562747  \n",
      "7              False       18651.798103  \n",
      "8              False       19634.733064  \n",
      "9              False       23709.816206  \n",
      "10             False       10907.209371  \n",
      "11             False       20597.161763  \n",
      "12             False       21319.186606  \n",
      "13              True       21058.320119  \n",
      "14             False       10266.831710  \n",
      "15             False       10028.060406  \n",
      "16             False       38246.567970  \n",
      "17             False       38737.023607  \n",
      "18              True       37006.850080  \n",
      "19             False       20218.410476  \n",
      "20             False        9588.406054  \n",
      "21             False       19516.883282  \n",
      "22             False       15850.840600  \n",
      "23              True       19278.820179  \n",
      "24             False       16716.986987  \n",
      "25             False       11591.609900  \n",
      "26             False       32904.508871  \n",
      "27              True       12116.290402  \n",
      "28             False       20693.869982  \n",
      "29              True       18352.723587  \n",
      "30             False       12890.102829  \n",
      "31             False       11388.262153  \n",
      "32             False       16783.626938  \n",
      "33             False       22446.556610  \n",
      "34             False       17193.507282  \n",
      "35             False       19710.452879  \n",
      "36             False       34145.380115  \n",
      "37              True       21187.959030  \n",
      "38             False        8671.019289  \n",
      "39             False       30125.260827  \n",
      "40              True       14508.325945  \n",
      "41             False       16468.354714  \n",
      "42              True       12635.302089  \n",
      "43             False       37559.070693  \n",
      "44             False       12623.399827  \n",
      "45             False       23475.616394  \n",
      "46              True       41084.358870  \n",
      "47             False       13200.439887  \n",
      "48             False       23063.734381  \n",
      "49             False       19471.665304  \n"
     ]
    }
   ],
   "source": [
    "predicted_charges  = model.predict(validation_data)*1000\n",
    "predicted_charges = np.where(predicted_charges < 1000, 1000, predicted_charges)\n",
    "validation_data[\"predicted_charges\"] = predicted_charges\n",
    "print(validation_data)"
   ]
  }
 ],
 "metadata": {
  "colab": {
   "name": "Welcome to DataCamp Workspaces.ipynb",
   "provenance": []
  },
  "kernelspec": {
   "display_name": "Python 3",
   "language": "python",
   "name": "python3"
  },
  "language_info": {
   "codemirror_mode": {
    "name": "ipython",
    "version": 3
   },
   "file_extension": ".py",
   "mimetype": "text/x-python",
   "name": "python",
   "nbconvert_exporter": "python",
   "pygments_lexer": "ipython3",
   "version": "3.10.11"
  }
 },
 "nbformat": 4,
 "nbformat_minor": 5
}
